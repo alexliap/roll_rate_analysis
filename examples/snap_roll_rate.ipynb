{
 "cells": [
  {
   "cell_type": "markdown",
   "id": "4fe8b75d-c42f-4e9e-84cb-84f02d386efd",
   "metadata": {},
   "source": [
    "### In this first example, we will explain the functionality of the SnapRollRateTable class"
   ]
  },
  {
   "cell_type": "markdown",
   "id": "dfe6c90e-ddca-4d2f-acf4-154595042263",
   "metadata": {},
   "source": [
    "### SnapRollRateTable"
   ]
  },
  {
   "cell_type": "markdown",
   "id": "7bea145f-456a-4900-b5ba-1d2af01b4e2a",
   "metadata": {},
   "source": [
    "In contrast with month over month roll rates, sometimes the bad definition is done by examining the worst delinquency of the clients between time windows. An observation and a performance window are defined along with a snapshot month. The length of the windows is measured in months, so for example a 6x6 snapshot roll rate would indicate a 6 month observation and perofrmance window. The snapshot month is defined in order to specify which accounts we want to monitor. **Also the snapshot month is the last month of the observation window**. What is being measured is the the performance of the accounts during the performance window with respect to their performance in observation window."
   ]
  },
  {
   "cell_type": "code",
   "execution_count": 1,
   "id": "3a69338a-c18c-43fd-8502-50f64d0bbce9",
   "metadata": {},
   "outputs": [],
   "source": [
    "import os\n",
    "import polars as pl\n",
    "from roll_rate_analysis import SnapshotRollRateTable\n",
    "\n",
    "os.chdir(\"..\\\\tests\\\\simulation_data\")\n",
    "snapshot_file = \"test_sample_4.csv\"\n",
    "\n",
    "obs_files = [\n",
    "    \"test_sample_0.csv\",\n",
    "    \"test_sample_1.csv\",\n",
    "    \"test_sample_2.csv\",\n",
    "    \"test_sample_3.csv\",\n",
    "    \"test_sample_4.csv\",\n",
    "]\n",
    "perf_files = [\n",
    "    \"test_sample_5.csv\",\n",
    "    \"test_sample_6.csv\",\n",
    "    \"test_sample_7.csv\",\n",
    "    \"test_sample_8.csv\",\n",
    "    \"test_sample_9.csv\",\n",
    "]"
   ]
  },
  {
   "cell_type": "markdown",
   "id": "7ec8f714-aed1-4456-b507-c2178eb0f4d3",
   "metadata": {},
   "source": [
    "The files are of the same strucure with the files on the previous examples"
   ]
  },
  {
   "cell_type": "code",
   "execution_count": 2,
   "id": "90241412-1e8a-438e-b648-9ad4848f6e38",
   "metadata": {},
   "outputs": [],
   "source": [
    "srr_table = SnapshotRollRateTable(\n",
    "    snapshot_file=snapshot_file,\n",
    "    unique_key_col=\"id\",\n",
    "    delinquency_col=\"delq\",\n",
    "    obs_files=obs_files,\n",
    "    perf_files=perf_files,\n",
    "    max_delq=6,\n",
    ")"
   ]
  },
  {
   "cell_type": "code",
   "execution_count": 3,
   "id": "116e0f4e-b180-4eb9-b92c-9c8b608efbac",
   "metadata": {},
   "outputs": [],
   "source": [
    "srr_table.compute()"
   ]
  },
  {
   "cell_type": "code",
   "execution_count": 4,
   "id": "a9cddbb5-5395-4f5a-bd02-8a836c68142c",
   "metadata": {},
   "outputs": [
    {
     "data": {
      "text/html": [
       "<div>\n",
       "<style scoped>\n",
       "    .dataframe tbody tr th:only-of-type {\n",
       "        vertical-align: middle;\n",
       "    }\n",
       "\n",
       "    .dataframe tbody tr th {\n",
       "        vertical-align: top;\n",
       "    }\n",
       "\n",
       "    .dataframe thead th {\n",
       "        text-align: right;\n",
       "    }\n",
       "</style>\n",
       "<table border=\"1\" class=\"dataframe\">\n",
       "  <thead>\n",
       "    <tr style=\"text-align: right;\">\n",
       "      <th></th>\n",
       "      <th>0_cycle_delinquent</th>\n",
       "      <th>1_cycle_delinquent</th>\n",
       "      <th>2_cycle_delinquent</th>\n",
       "      <th>3_cycle_delinquent</th>\n",
       "      <th>4_cycle_delinquent</th>\n",
       "      <th>5_cycle_delinquent</th>\n",
       "      <th>6+_cycle_delinquent</th>\n",
       "    </tr>\n",
       "  </thead>\n",
       "  <tbody>\n",
       "    <tr>\n",
       "      <th>0_cycle_delinquent</th>\n",
       "      <td>85156</td>\n",
       "      <td>17604</td>\n",
       "      <td>1670</td>\n",
       "      <td>406</td>\n",
       "      <td>188</td>\n",
       "      <td>139</td>\n",
       "      <td>13</td>\n",
       "    </tr>\n",
       "    <tr>\n",
       "      <th>1_cycle_delinquent</th>\n",
       "      <td>23022</td>\n",
       "      <td>28245</td>\n",
       "      <td>5476</td>\n",
       "      <td>937</td>\n",
       "      <td>318</td>\n",
       "      <td>223</td>\n",
       "      <td>138</td>\n",
       "    </tr>\n",
       "    <tr>\n",
       "      <th>2_cycle_delinquent</th>\n",
       "      <td>3962</td>\n",
       "      <td>7626</td>\n",
       "      <td>2795</td>\n",
       "      <td>1738</td>\n",
       "      <td>676</td>\n",
       "      <td>319</td>\n",
       "      <td>357</td>\n",
       "    </tr>\n",
       "    <tr>\n",
       "      <th>3_cycle_delinquent</th>\n",
       "      <td>1418</td>\n",
       "      <td>2676</td>\n",
       "      <td>1206</td>\n",
       "      <td>572</td>\n",
       "      <td>1219</td>\n",
       "      <td>735</td>\n",
       "      <td>942</td>\n",
       "    </tr>\n",
       "    <tr>\n",
       "      <th>4_cycle_delinquent</th>\n",
       "      <td>430</td>\n",
       "      <td>666</td>\n",
       "      <td>308</td>\n",
       "      <td>153</td>\n",
       "      <td>119</td>\n",
       "      <td>544</td>\n",
       "      <td>1074</td>\n",
       "    </tr>\n",
       "    <tr>\n",
       "      <th>5_cycle_delinquent</th>\n",
       "      <td>151</td>\n",
       "      <td>157</td>\n",
       "      <td>77</td>\n",
       "      <td>63</td>\n",
       "      <td>48</td>\n",
       "      <td>50</td>\n",
       "      <td>891</td>\n",
       "    </tr>\n",
       "    <tr>\n",
       "      <th>6+_cycle_delinquent</th>\n",
       "      <td>198</td>\n",
       "      <td>162</td>\n",
       "      <td>82</td>\n",
       "      <td>50</td>\n",
       "      <td>19</td>\n",
       "      <td>23</td>\n",
       "      <td>2509</td>\n",
       "    </tr>\n",
       "  </tbody>\n",
       "</table>\n",
       "</div>"
      ],
      "text/plain": [
       "                     0_cycle_delinquent  1_cycle_delinquent  \\\n",
       "0_cycle_delinquent                85156               17604   \n",
       "1_cycle_delinquent                23022               28245   \n",
       "2_cycle_delinquent                 3962                7626   \n",
       "3_cycle_delinquent                 1418                2676   \n",
       "4_cycle_delinquent                  430                 666   \n",
       "5_cycle_delinquent                  151                 157   \n",
       "6+_cycle_delinquent                 198                 162   \n",
       "\n",
       "                     2_cycle_delinquent  3_cycle_delinquent  \\\n",
       "0_cycle_delinquent                 1670                 406   \n",
       "1_cycle_delinquent                 5476                 937   \n",
       "2_cycle_delinquent                 2795                1738   \n",
       "3_cycle_delinquent                 1206                 572   \n",
       "4_cycle_delinquent                  308                 153   \n",
       "5_cycle_delinquent                   77                  63   \n",
       "6+_cycle_delinquent                  82                  50   \n",
       "\n",
       "                     4_cycle_delinquent  5_cycle_delinquent  \\\n",
       "0_cycle_delinquent                  188                 139   \n",
       "1_cycle_delinquent                  318                 223   \n",
       "2_cycle_delinquent                  676                 319   \n",
       "3_cycle_delinquent                 1219                 735   \n",
       "4_cycle_delinquent                  119                 544   \n",
       "5_cycle_delinquent                   48                  50   \n",
       "6+_cycle_delinquent                  19                  23   \n",
       "\n",
       "                     6+_cycle_delinquent  \n",
       "0_cycle_delinquent                    13  \n",
       "1_cycle_delinquent                   138  \n",
       "2_cycle_delinquent                   357  \n",
       "3_cycle_delinquent                   942  \n",
       "4_cycle_delinquent                  1074  \n",
       "5_cycle_delinquent                   891  \n",
       "6+_cycle_delinquent                 2509  "
      ]
     },
     "execution_count": 4,
     "metadata": {},
     "output_type": "execute_result"
    }
   ],
   "source": [
    "srr_table.get_roll_rates()"
   ]
  },
  {
   "cell_type": "markdown",
   "id": "64d7c9eb-996b-4f75-82a6-2dfa1c654fbb",
   "metadata": {},
   "source": [
    "Now, if it's not clear where the line needs to be drawn for bads, i.e. the roll up rate for 3 and 4 cycle delinquent accounts is ~50%, then you can produce a more detailed view for those buckets."
   ]
  },
  {
   "cell_type": "code",
   "execution_count": 11,
   "id": "9b350860-8828-47d6-8941-5aee59f57ef0",
   "metadata": {},
   "outputs": [],
   "source": [
    "srr_table = SnapshotRollRateTable(\n",
    "    snapshot_file=snapshot_file,\n",
    "    unique_key_col=\"id\",\n",
    "    delinquency_col=\"delq\",\n",
    "    obs_files=obs_files,\n",
    "    perf_files=perf_files,\n",
    "    max_delq=6,\n",
    "    detailed=True,\n",
    "    granularity=2,\n",
    ")"
   ]
  },
  {
   "cell_type": "code",
   "execution_count": 12,
   "id": "237a8db0-ba63-4813-a509-f20dd82db563",
   "metadata": {},
   "outputs": [],
   "source": [
    "srr_table.compute()"
   ]
  },
  {
   "cell_type": "code",
   "execution_count": 13,
   "id": "b15eadde-f4a8-4b65-a306-5ade17e28901",
   "metadata": {},
   "outputs": [
    {
     "data": {
      "text/html": [
       "<div>\n",
       "<style scoped>\n",
       "    .dataframe tbody tr th:only-of-type {\n",
       "        vertical-align: middle;\n",
       "    }\n",
       "\n",
       "    .dataframe tbody tr th {\n",
       "        vertical-align: top;\n",
       "    }\n",
       "\n",
       "    .dataframe thead th {\n",
       "        text-align: right;\n",
       "    }\n",
       "</style>\n",
       "<table border=\"1\" class=\"dataframe\">\n",
       "  <thead>\n",
       "    <tr style=\"text-align: right;\">\n",
       "      <th></th>\n",
       "      <th>0_cycle_delinquent</th>\n",
       "      <th>1_cycle_delinquent</th>\n",
       "      <th>2_cycle_delinquent</th>\n",
       "      <th>3_cycle_delinquent</th>\n",
       "      <th>4_cycle_delinquent</th>\n",
       "      <th>5_cycle_delinquent</th>\n",
       "      <th>6+_cycle_delinquent</th>\n",
       "    </tr>\n",
       "  </thead>\n",
       "  <tbody>\n",
       "    <tr>\n",
       "      <th>0_cycle_delinquent</th>\n",
       "      <td>85156</td>\n",
       "      <td>17604</td>\n",
       "      <td>1670</td>\n",
       "      <td>406</td>\n",
       "      <td>188</td>\n",
       "      <td>139</td>\n",
       "      <td>13</td>\n",
       "    </tr>\n",
       "    <tr>\n",
       "      <th>1_cycle_delinquent</th>\n",
       "      <td>23022</td>\n",
       "      <td>28245</td>\n",
       "      <td>5476</td>\n",
       "      <td>937</td>\n",
       "      <td>318</td>\n",
       "      <td>223</td>\n",
       "      <td>138</td>\n",
       "    </tr>\n",
       "    <tr>\n",
       "      <th>2_cycle_delinquent</th>\n",
       "      <td>3962</td>\n",
       "      <td>7626</td>\n",
       "      <td>2795</td>\n",
       "      <td>1738</td>\n",
       "      <td>676</td>\n",
       "      <td>319</td>\n",
       "      <td>357</td>\n",
       "    </tr>\n",
       "    <tr>\n",
       "      <th>3x1_cycle_delinquent</th>\n",
       "      <td>1393</td>\n",
       "      <td>2626</td>\n",
       "      <td>1173</td>\n",
       "      <td>544</td>\n",
       "      <td>1194</td>\n",
       "      <td>713</td>\n",
       "      <td>915</td>\n",
       "    </tr>\n",
       "    <tr>\n",
       "      <th>3x2+_cycle_delinquent</th>\n",
       "      <td>25</td>\n",
       "      <td>50</td>\n",
       "      <td>33</td>\n",
       "      <td>28</td>\n",
       "      <td>25</td>\n",
       "      <td>22</td>\n",
       "      <td>27</td>\n",
       "    </tr>\n",
       "    <tr>\n",
       "      <th>4x1_cycle_delinquent</th>\n",
       "      <td>427</td>\n",
       "      <td>656</td>\n",
       "      <td>305</td>\n",
       "      <td>147</td>\n",
       "      <td>113</td>\n",
       "      <td>541</td>\n",
       "      <td>1063</td>\n",
       "    </tr>\n",
       "    <tr>\n",
       "      <th>4x2+_cycle_delinquent</th>\n",
       "      <td>3</td>\n",
       "      <td>10</td>\n",
       "      <td>3</td>\n",
       "      <td>6</td>\n",
       "      <td>6</td>\n",
       "      <td>3</td>\n",
       "      <td>11</td>\n",
       "    </tr>\n",
       "    <tr>\n",
       "      <th>5_cycle_delinquent</th>\n",
       "      <td>151</td>\n",
       "      <td>157</td>\n",
       "      <td>77</td>\n",
       "      <td>63</td>\n",
       "      <td>48</td>\n",
       "      <td>50</td>\n",
       "      <td>891</td>\n",
       "    </tr>\n",
       "    <tr>\n",
       "      <th>6+_cycle_delinquent</th>\n",
       "      <td>198</td>\n",
       "      <td>162</td>\n",
       "      <td>82</td>\n",
       "      <td>50</td>\n",
       "      <td>19</td>\n",
       "      <td>23</td>\n",
       "      <td>2509</td>\n",
       "    </tr>\n",
       "  </tbody>\n",
       "</table>\n",
       "</div>"
      ],
      "text/plain": [
       "                       0_cycle_delinquent  1_cycle_delinquent  \\\n",
       "0_cycle_delinquent                  85156               17604   \n",
       "1_cycle_delinquent                  23022               28245   \n",
       "2_cycle_delinquent                   3962                7626   \n",
       "3x1_cycle_delinquent                 1393                2626   \n",
       "3x2+_cycle_delinquent                  25                  50   \n",
       "4x1_cycle_delinquent                  427                 656   \n",
       "4x2+_cycle_delinquent                   3                  10   \n",
       "5_cycle_delinquent                    151                 157   \n",
       "6+_cycle_delinquent                   198                 162   \n",
       "\n",
       "                       2_cycle_delinquent  3_cycle_delinquent  \\\n",
       "0_cycle_delinquent                   1670                 406   \n",
       "1_cycle_delinquent                   5476                 937   \n",
       "2_cycle_delinquent                   2795                1738   \n",
       "3x1_cycle_delinquent                 1173                 544   \n",
       "3x2+_cycle_delinquent                  33                  28   \n",
       "4x1_cycle_delinquent                  305                 147   \n",
       "4x2+_cycle_delinquent                   3                   6   \n",
       "5_cycle_delinquent                     77                  63   \n",
       "6+_cycle_delinquent                    82                  50   \n",
       "\n",
       "                       4_cycle_delinquent  5_cycle_delinquent  \\\n",
       "0_cycle_delinquent                    188                 139   \n",
       "1_cycle_delinquent                    318                 223   \n",
       "2_cycle_delinquent                    676                 319   \n",
       "3x1_cycle_delinquent                 1194                 713   \n",
       "3x2+_cycle_delinquent                  25                  22   \n",
       "4x1_cycle_delinquent                  113                 541   \n",
       "4x2+_cycle_delinquent                   6                   3   \n",
       "5_cycle_delinquent                     48                  50   \n",
       "6+_cycle_delinquent                    19                  23   \n",
       "\n",
       "                       6+_cycle_delinquent  \n",
       "0_cycle_delinquent                      13  \n",
       "1_cycle_delinquent                     138  \n",
       "2_cycle_delinquent                     357  \n",
       "3x1_cycle_delinquent                   915  \n",
       "3x2+_cycle_delinquent                   27  \n",
       "4x1_cycle_delinquent                  1063  \n",
       "4x2+_cycle_delinquent                   11  \n",
       "5_cycle_delinquent                     891  \n",
       "6+_cycle_delinquent                   2509  "
      ]
     },
     "execution_count": 13,
     "metadata": {},
     "output_type": "execute_result"
    }
   ],
   "source": [
    "srr_table.get_roll_rates()"
   ]
  },
  {
   "cell_type": "markdown",
   "id": "1411333e-f9dd-49b0-9d6e-4552c446e109",
   "metadata": {},
   "source": [
    "The detailed argument must be **True** for this view and the granularity argument can't be lower than 2 when detailed equals to **True**."
   ]
  },
  {
   "cell_type": "markdown",
   "id": "da24d366-72e7-4870-9793-3b42db61e24a",
   "metadata": {},
   "source": [
    "So, what do those buckets mean? Well, at the first table the buckets meant that the **maximum delinquency** of an account at the observation window was 0, 1, 2 etc. Now, in the detailed buckets what is shown is the number of times that some accounts reached their **maximum delinquency**. The + sign means that the account reached that delinquency x plus times (e.g. 3x2+ reached 3 cycle delinquent 2 or more times)."
   ]
  },
  {
   "cell_type": "markdown",
   "id": "47638ceb-5cba-4f23-b872-d88a44f1b8fb",
   "metadata": {},
   "source": [
    "# Miscellaneous"
   ]
  },
  {
   "cell_type": "markdown",
   "id": "a66cc5cd-12a1-4d4d-b9ce-8efb0c5f46f0",
   "metadata": {},
   "source": [
    "There is also another method for that class, the build() method which constracts the dataset, but in a **Lazy** form. Because this is a **Polars** library object, you can additionally call the collect() method to materialize the dataset like below."
   ]
  },
  {
   "cell_type": "code",
   "execution_count": 16,
   "id": "e7393352-6d24-4f4e-8a69-1030a23ff113",
   "metadata": {},
   "outputs": [],
   "source": [
    "srr_table = SnapshotRollRateTable(\n",
    "    snapshot_file=snapshot_file,\n",
    "    unique_key_col=\"id\",\n",
    "    delinquency_col=\"delq\",\n",
    "    obs_files=obs_files,\n",
    "    perf_files=perf_files,\n",
    "    max_delq=6,\n",
    "    detailed=True,\n",
    "    granularity=2,\n",
    ")"
   ]
  },
  {
   "cell_type": "code",
   "execution_count": 18,
   "id": "b81a359e-9d14-45d7-ac34-1549c7a88b53",
   "metadata": {},
   "outputs": [
    {
     "data": {
      "text/html": [
       "<div><style>\n",
       ".dataframe > thead > tr,\n",
       ".dataframe > tbody > tr {\n",
       "  text-align: right;\n",
       "  white-space: pre-wrap;\n",
       "}\n",
       "</style>\n",
       "<small>shape: (5, 5)</small><table border=\"1\" class=\"dataframe\"><thead><tr><th>id</th><th>obs_max_delq</th><th>obs_times_3_cycle</th><th>obs_times_4_cycle</th><th>perf_max_delq</th></tr><tr><td>str</td><td>i64</td><td>u32</td><td>u32</td><td>i64</td></tr></thead><tbody><tr><td>&quot;ChdjDnG&quot;</td><td>0</td><td>0</td><td>0</td><td>0</td></tr><tr><td>&quot;gohvKpu&quot;</td><td>1</td><td>0</td><td>0</td><td>0</td></tr><tr><td>&quot;WUzgWOB&quot;</td><td>2</td><td>0</td><td>0</td><td>4</td></tr><tr><td>&quot;eoqIvwb&quot;</td><td>0</td><td>0</td><td>0</td><td>1</td></tr><tr><td>&quot;SHPGWxV&quot;</td><td>0</td><td>0</td><td>0</td><td>1</td></tr></tbody></table></div>"
      ],
      "text/plain": [
       "shape: (5, 5)\n",
       "┌─────────┬──────────────┬───────────────────┬───────────────────┬───────────────┐\n",
       "│ id      ┆ obs_max_delq ┆ obs_times_3_cycle ┆ obs_times_4_cycle ┆ perf_max_delq │\n",
       "│ ---     ┆ ---          ┆ ---               ┆ ---               ┆ ---           │\n",
       "│ str     ┆ i64          ┆ u32               ┆ u32               ┆ i64           │\n",
       "╞═════════╪══════════════╪═══════════════════╪═══════════════════╪═══════════════╡\n",
       "│ ChdjDnG ┆ 0            ┆ 0                 ┆ 0                 ┆ 0             │\n",
       "│ gohvKpu ┆ 1            ┆ 0                 ┆ 0                 ┆ 0             │\n",
       "│ WUzgWOB ┆ 2            ┆ 0                 ┆ 0                 ┆ 4             │\n",
       "│ eoqIvwb ┆ 0            ┆ 0                 ┆ 0                 ┆ 1             │\n",
       "│ SHPGWxV ┆ 0            ┆ 0                 ┆ 0                 ┆ 1             │\n",
       "└─────────┴──────────────┴───────────────────┴───────────────────┴───────────────┘"
      ]
     },
     "execution_count": 18,
     "metadata": {},
     "output_type": "execute_result"
    }
   ],
   "source": [
    "srr_table.build().collect().head()"
   ]
  },
  {
   "cell_type": "markdown",
   "id": "be9a57d8-f3c7-4195-970d-80dae4a8cb58",
   "metadata": {},
   "source": [
    "We can see that there are 5 columns:\n",
    "\n",
    "**id**: Account id, the unique key of the dataset. \\\n",
    "**obs_max_delq**: The account's max delinqueny in observation window. \\\n",
    "**obs_times_3_cycle**: The number of times the account reaced maximum delinquency equal to 3. \\\n",
    "**obs_times_4_cycle**: The number of times the account reaced maximum delinquency equal to 4. \\\n",
    "**perf_max_delq**: The account's max delinqueny in performance window."
   ]
  },
  {
   "cell_type": "markdown",
   "id": "7bb0a005-41de-411a-a4d9-02b082ed477e",
   "metadata": {},
   "source": [
    "If the table wasn't in detailed form, there would be 3 columns: **id**, **obs_max_delq** & **perf_max_delq**."
   ]
  },
  {
   "cell_type": "code",
   "execution_count": null,
   "id": "071626ec-0422-490e-b627-995d63a76e6a",
   "metadata": {},
   "outputs": [],
   "source": []
  }
 ],
 "metadata": {
  "kernelspec": {
   "display_name": "Python 3 (ipykernel)",
   "language": "python",
   "name": "python3"
  },
  "language_info": {
   "codemirror_mode": {
    "name": "ipython",
    "version": 3
   },
   "file_extension": ".py",
   "mimetype": "text/x-python",
   "name": "python",
   "nbconvert_exporter": "python",
   "pygments_lexer": "ipython3",
   "version": "3.10.11"
  }
 },
 "nbformat": 4,
 "nbformat_minor": 5
}
