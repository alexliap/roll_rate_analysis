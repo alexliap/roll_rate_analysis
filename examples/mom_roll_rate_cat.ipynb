{
 "cells": [
  {
   "cell_type": "markdown",
   "id": "5cb96062-18be-44a6-ac74-cddd4a3a537a",
   "metadata": {},
   "source": [
    "### In this example, we will explain how the binary columns are integrated in MOMRollRateTable"
   ]
  },
  {
   "cell_type": "code",
   "execution_count": 1,
   "id": "da9bbd47-8e1e-4d66-a18a-55eebde98755",
   "metadata": {},
   "outputs": [],
   "source": [
    "import polars as pl\n",
    "\n",
    "data_i = pl.scan_csv(\"../tests/simulation_data/test_sample_0.csv\").collect()\n",
    "data_i_1 = pl.scan_csv(\"../tests/simulation_data/test_sample_1.csv\").collect()"
   ]
  },
  {
   "cell_type": "code",
   "execution_count": 2,
   "id": "cea0b929-e4e9-48dc-b35a-730df1e990af",
   "metadata": {},
   "outputs": [
    {
     "data": {
      "text/html": [
       "<div><style>\n",
       ".dataframe > thead > tr > th,\n",
       ".dataframe > tbody > tr > td {\n",
       "  text-align: right;\n",
       "  white-space: pre-wrap;\n",
       "}\n",
       "</style>\n",
       "<small>shape: (5, 8)</small><table border=\"1\" class=\"dataframe\"><thead><tr><th>id</th><th>delq</th><th>Open</th><th>Active</th><th>Deactive</th><th>Closed</th><th>bin_ind_1</th><th>bin_ind_2</th></tr><tr><td>str</td><td>i64</td><td>i64</td><td>i64</td><td>i64</td><td>i64</td><td>i64</td><td>i64</td></tr></thead><tbody><tr><td>&quot;950165FF0FFE88…</td><td>0</td><td>1</td><td>1</td><td>0</td><td>0</td><td>0</td><td>1</td></tr><tr><td>&quot;885857A5D45526…</td><td>0</td><td>1</td><td>1</td><td>0</td><td>0</td><td>0</td><td>1</td></tr><tr><td>&quot;CC2672DFA2988C…</td><td>0</td><td>1</td><td>1</td><td>0</td><td>0</td><td>1</td><td>0</td></tr><tr><td>&quot;D73B2D86E08D8E…</td><td>0</td><td>1</td><td>1</td><td>0</td><td>0</td><td>1</td><td>0</td></tr><tr><td>&quot;23D46CDE09B973…</td><td>1</td><td>1</td><td>1</td><td>0</td><td>0</td><td>1</td><td>0</td></tr></tbody></table></div>"
      ],
      "text/plain": [
       "shape: (5, 8)\n",
       "┌──────────────────────────────────┬──────┬──────┬────────┬──────────┬────────┬───────────┬───────────┐\n",
       "│ id                               ┆ delq ┆ Open ┆ Active ┆ Deactive ┆ Closed ┆ bin_ind_1 ┆ bin_ind_2 │\n",
       "│ ---                              ┆ ---  ┆ ---  ┆ ---    ┆ ---      ┆ ---    ┆ ---       ┆ ---       │\n",
       "│ str                              ┆ i64  ┆ i64  ┆ i64    ┆ i64      ┆ i64    ┆ i64       ┆ i64       │\n",
       "╞══════════════════════════════════╪══════╪══════╪════════╪══════════╪════════╪═══════════╪═══════════╡\n",
       "│ 950165FF0FFE8826C147C35805AEEAD9 ┆ 0    ┆ 1    ┆ 1      ┆ 0        ┆ 0      ┆ 0         ┆ 1         │\n",
       "│ 885857A5D4552651CEC59F6897EF2F0B ┆ 0    ┆ 1    ┆ 1      ┆ 0        ┆ 0      ┆ 0         ┆ 1         │\n",
       "│ CC2672DFA2988C41F3D13A8B205A127E ┆ 0    ┆ 1    ┆ 1      ┆ 0        ┆ 0      ┆ 1         ┆ 0         │\n",
       "│ D73B2D86E08D8E48238B59A55EAD0CA4 ┆ 0    ┆ 1    ┆ 1      ┆ 0        ┆ 0      ┆ 1         ┆ 0         │\n",
       "│ 23D46CDE09B973C462C8B7F287F87495 ┆ 1    ┆ 1    ┆ 1      ┆ 0        ┆ 0      ┆ 1         ┆ 0         │\n",
       "└──────────────────────────────────┴──────┴──────┴────────┴──────────┴────────┴───────────┴───────────┘"
      ]
     },
     "execution_count": 2,
     "metadata": {},
     "output_type": "execute_result"
    }
   ],
   "source": [
    "data_i.head()"
   ]
  },
  {
   "cell_type": "code",
   "execution_count": 3,
   "id": "702dbf9d-6e61-46a8-85d6-dd6e623e36e8",
   "metadata": {},
   "outputs": [
    {
     "data": {
      "text/html": [
       "<div><style>\n",
       ".dataframe > thead > tr > th,\n",
       ".dataframe > tbody > tr > td {\n",
       "  text-align: right;\n",
       "  white-space: pre-wrap;\n",
       "}\n",
       "</style>\n",
       "<small>shape: (5, 8)</small><table border=\"1\" class=\"dataframe\"><thead><tr><th>id</th><th>delq</th><th>Open</th><th>Active</th><th>Deactive</th><th>Closed</th><th>bin_ind_1</th><th>bin_ind_2</th></tr><tr><td>str</td><td>i64</td><td>i64</td><td>i64</td><td>i64</td><td>i64</td><td>i64</td><td>i64</td></tr></thead><tbody><tr><td>&quot;B1BF9E2890A8D8…</td><td>1</td><td>1</td><td>1</td><td>0</td><td>0</td><td>1</td><td>0</td></tr><tr><td>&quot;6EDAD278689D5E…</td><td>1</td><td>1</td><td>1</td><td>0</td><td>0</td><td>1</td><td>1</td></tr><tr><td>&quot;8779CF51DFA115…</td><td>1</td><td>1</td><td>1</td><td>0</td><td>0</td><td>1</td><td>0</td></tr><tr><td>&quot;81EA835BB1B98E…</td><td>0</td><td>1</td><td>1</td><td>0</td><td>0</td><td>0</td><td>0</td></tr><tr><td>&quot;691C4F9084FC3A…</td><td>0</td><td>1</td><td>1</td><td>0</td><td>0</td><td>1</td><td>1</td></tr></tbody></table></div>"
      ],
      "text/plain": [
       "shape: (5, 8)\n",
       "┌──────────────────────────────────┬──────┬──────┬────────┬──────────┬────────┬───────────┬───────────┐\n",
       "│ id                               ┆ delq ┆ Open ┆ Active ┆ Deactive ┆ Closed ┆ bin_ind_1 ┆ bin_ind_2 │\n",
       "│ ---                              ┆ ---  ┆ ---  ┆ ---    ┆ ---      ┆ ---    ┆ ---       ┆ ---       │\n",
       "│ str                              ┆ i64  ┆ i64  ┆ i64    ┆ i64      ┆ i64    ┆ i64       ┆ i64       │\n",
       "╞══════════════════════════════════╪══════╪══════╪════════╪══════════╪════════╪═══════════╪═══════════╡\n",
       "│ B1BF9E2890A8D8727E7A3AE81032A434 ┆ 1    ┆ 1    ┆ 1      ┆ 0        ┆ 0      ┆ 1         ┆ 0         │\n",
       "│ 6EDAD278689D5EC709C1FD3CAEB05D13 ┆ 1    ┆ 1    ┆ 1      ┆ 0        ┆ 0      ┆ 1         ┆ 1         │\n",
       "│ 8779CF51DFA1152461850FF6D5AF3456 ┆ 1    ┆ 1    ┆ 1      ┆ 0        ┆ 0      ┆ 1         ┆ 0         │\n",
       "│ 81EA835BB1B98EBCACCAF1E0687A91D0 ┆ 0    ┆ 1    ┆ 1      ┆ 0        ┆ 0      ┆ 0         ┆ 0         │\n",
       "│ 691C4F9084FC3A553ABE00076AFC39BA ┆ 0    ┆ 1    ┆ 1      ┆ 0        ┆ 0      ┆ 1         ┆ 1         │\n",
       "└──────────────────────────────────┴──────┴──────┴────────┴──────────┴────────┴───────────┴───────────┘"
      ]
     },
     "execution_count": 3,
     "metadata": {},
     "output_type": "execute_result"
    }
   ],
   "source": [
    "data_i_1.head()"
   ]
  },
  {
   "cell_type": "markdown",
   "id": "bedece77-73a5-4038-9050-52b61173f50a",
   "metadata": {},
   "source": [
    "We can see that there are 8 columns:\n",
    "\n",
    "**id**: Account id, the unique key of the dataset. \\\n",
    "**delq**: The delinquency of each account. \\\n",
    "**bin_ind_1**: A binary indicator. \\\n",
    "**bin_ind_2**: A binary indicator. \\\n",
    "**Open, Active, Deactive, Closed**: Indicates if the account is open, active, deactive or closed in that month. \n",
    "\n",
    "The last 4 columns are not of any use to us for this example."
   ]
  },
  {
   "cell_type": "markdown",
   "id": "667eeed3-fc68-443b-99d5-ea78988cfff1",
   "metadata": {},
   "source": [
    "Suppose now that we want to include the 2 binary columns in our data into our roll rate table. Before just adding them into the MOMRollRateTable object we have to consider to which indicator we want to give priority, i.e. if an account id is populated with both indicators who do we consider more important? "
   ]
  },
  {
   "cell_type": "code",
   "execution_count": 4,
   "id": "f13dcbc3-41b9-4d9e-8db4-616ce78b6891",
   "metadata": {},
   "outputs": [],
   "source": [
    "from roll_rate_analysis import MOMRollRateTable\n",
    "\n",
    "table = MOMRollRateTable(\n",
    "    unique_key_col=\"id\",\n",
    "    delinquency_col=\"delq\",\n",
    "    path_i=\"../tests/simulation_data/test_sample_0.csv\",\n",
    "    path_i_1=\"../tests/simulation_data/test_sample_1.csv\",\n",
    "    max_delq=6,\n",
    "    binary_cols=[\"bin_ind_1\", \"bin_ind_2\"],\n",
    ")"
   ]
  },
  {
   "cell_type": "markdown",
   "id": "00f72637-7a43-47e2-b780-1a5d70b245cd",
   "metadata": {},
   "source": [
    "The rows that we put first have the largest priority, in other words, priority is in descending order [bin_ind_1 > bin_ind_2]. That said, for accounts on row \"bin_ind_2\", the bin_ind_1 variable **equal to zero**. But accounts on row \"bin_ind_1\" could have **both indicators equal to 1 or just the bin_ind_1**."
   ]
  },
  {
   "cell_type": "code",
   "execution_count": 5,
   "id": "c9d97508-0597-44c5-9192-5677705d271e",
   "metadata": {},
   "outputs": [],
   "source": [
    "table.build()"
   ]
  },
  {
   "cell_type": "code",
   "execution_count": 6,
   "id": "23e98308-bcaf-48ad-b117-6d5d4f970256",
   "metadata": {},
   "outputs": [
    {
     "data": {
      "text/html": [
       "<div>\n",
       "<style scoped>\n",
       "    .dataframe tbody tr th:only-of-type {\n",
       "        vertical-align: middle;\n",
       "    }\n",
       "\n",
       "    .dataframe tbody tr th {\n",
       "        vertical-align: top;\n",
       "    }\n",
       "\n",
       "    .dataframe thead th {\n",
       "        text-align: right;\n",
       "    }\n",
       "</style>\n",
       "<table border=\"1\" class=\"dataframe\">\n",
       "  <thead>\n",
       "    <tr style=\"text-align: right;\">\n",
       "      <th></th>\n",
       "      <th>0_cycle_deliqnuent</th>\n",
       "      <th>1_cycle_deliqnuent</th>\n",
       "      <th>2_cycle_deliqnuent</th>\n",
       "      <th>3_cycle_deliqnuent</th>\n",
       "      <th>4_cycle_deliqnuent</th>\n",
       "      <th>5_cycle_deliqnuent</th>\n",
       "      <th>6+_cycle_deliqnuent</th>\n",
       "      <th>bin_ind_2</th>\n",
       "      <th>bin_ind_1</th>\n",
       "    </tr>\n",
       "  </thead>\n",
       "  <tbody>\n",
       "    <tr>\n",
       "      <th>0_cycle_deliqnuent</th>\n",
       "      <td>1816</td>\n",
       "      <td>401</td>\n",
       "      <td>1</td>\n",
       "      <td>0</td>\n",
       "      <td>0</td>\n",
       "      <td>0</td>\n",
       "      <td>0</td>\n",
       "      <td>2216</td>\n",
       "      <td>4374</td>\n",
       "    </tr>\n",
       "    <tr>\n",
       "      <th>1_cycle_deliqnuent</th>\n",
       "      <td>429</td>\n",
       "      <td>618</td>\n",
       "      <td>139</td>\n",
       "      <td>0</td>\n",
       "      <td>0</td>\n",
       "      <td>0</td>\n",
       "      <td>0</td>\n",
       "      <td>1158</td>\n",
       "      <td>2477</td>\n",
       "    </tr>\n",
       "    <tr>\n",
       "      <th>2_cycle_deliqnuent</th>\n",
       "      <td>58</td>\n",
       "      <td>159</td>\n",
       "      <td>21</td>\n",
       "      <td>51</td>\n",
       "      <td>0</td>\n",
       "      <td>0</td>\n",
       "      <td>0</td>\n",
       "      <td>307</td>\n",
       "      <td>585</td>\n",
       "    </tr>\n",
       "    <tr>\n",
       "      <th>3_cycle_deliqnuent</th>\n",
       "      <td>18</td>\n",
       "      <td>18</td>\n",
       "      <td>6</td>\n",
       "      <td>2</td>\n",
       "      <td>30</td>\n",
       "      <td>0</td>\n",
       "      <td>0</td>\n",
       "      <td>76</td>\n",
       "      <td>156</td>\n",
       "    </tr>\n",
       "    <tr>\n",
       "      <th>4_cycle_deliqnuent</th>\n",
       "      <td>6</td>\n",
       "      <td>3</td>\n",
       "      <td>2</td>\n",
       "      <td>0</td>\n",
       "      <td>1</td>\n",
       "      <td>17</td>\n",
       "      <td>0</td>\n",
       "      <td>27</td>\n",
       "      <td>49</td>\n",
       "    </tr>\n",
       "    <tr>\n",
       "      <th>5_cycle_deliqnuent</th>\n",
       "      <td>2</td>\n",
       "      <td>3</td>\n",
       "      <td>0</td>\n",
       "      <td>0</td>\n",
       "      <td>0</td>\n",
       "      <td>0</td>\n",
       "      <td>9</td>\n",
       "      <td>12</td>\n",
       "      <td>30</td>\n",
       "    </tr>\n",
       "    <tr>\n",
       "      <th>6+_cycle_deliqnuent</th>\n",
       "      <td>3</td>\n",
       "      <td>0</td>\n",
       "      <td>0</td>\n",
       "      <td>0</td>\n",
       "      <td>0</td>\n",
       "      <td>0</td>\n",
       "      <td>24</td>\n",
       "      <td>32</td>\n",
       "      <td>50</td>\n",
       "    </tr>\n",
       "    <tr>\n",
       "      <th>bin_ind_2</th>\n",
       "      <td>2352</td>\n",
       "      <td>1113</td>\n",
       "      <td>169</td>\n",
       "      <td>40</td>\n",
       "      <td>38</td>\n",
       "      <td>23</td>\n",
       "      <td>31</td>\n",
       "      <td>3994</td>\n",
       "      <td>7669</td>\n",
       "    </tr>\n",
       "    <tr>\n",
       "      <th>bin_ind_1</th>\n",
       "      <td>4894</td>\n",
       "      <td>2313</td>\n",
       "      <td>367</td>\n",
       "      <td>84</td>\n",
       "      <td>61</td>\n",
       "      <td>27</td>\n",
       "      <td>74</td>\n",
       "      <td>7624</td>\n",
       "      <td>15287</td>\n",
       "    </tr>\n",
       "  </tbody>\n",
       "</table>\n",
       "</div>"
      ],
      "text/plain": [
       "                     0_cycle_deliqnuent  1_cycle_deliqnuent  \\\n",
       "0_cycle_deliqnuent                 1816                 401   \n",
       "1_cycle_deliqnuent                  429                 618   \n",
       "2_cycle_deliqnuent                   58                 159   \n",
       "3_cycle_deliqnuent                   18                  18   \n",
       "4_cycle_deliqnuent                    6                   3   \n",
       "5_cycle_deliqnuent                    2                   3   \n",
       "6+_cycle_deliqnuent                   3                   0   \n",
       "bin_ind_2                          2352                1113   \n",
       "bin_ind_1                          4894                2313   \n",
       "\n",
       "                     2_cycle_deliqnuent  3_cycle_deliqnuent  \\\n",
       "0_cycle_deliqnuent                    1                   0   \n",
       "1_cycle_deliqnuent                  139                   0   \n",
       "2_cycle_deliqnuent                   21                  51   \n",
       "3_cycle_deliqnuent                    6                   2   \n",
       "4_cycle_deliqnuent                    2                   0   \n",
       "5_cycle_deliqnuent                    0                   0   \n",
       "6+_cycle_deliqnuent                   0                   0   \n",
       "bin_ind_2                           169                  40   \n",
       "bin_ind_1                           367                  84   \n",
       "\n",
       "                     4_cycle_deliqnuent  5_cycle_deliqnuent  \\\n",
       "0_cycle_deliqnuent                    0                   0   \n",
       "1_cycle_deliqnuent                    0                   0   \n",
       "2_cycle_deliqnuent                    0                   0   \n",
       "3_cycle_deliqnuent                   30                   0   \n",
       "4_cycle_deliqnuent                    1                  17   \n",
       "5_cycle_deliqnuent                    0                   0   \n",
       "6+_cycle_deliqnuent                   0                   0   \n",
       "bin_ind_2                            38                  23   \n",
       "bin_ind_1                            61                  27   \n",
       "\n",
       "                     6+_cycle_deliqnuent  bin_ind_2  bin_ind_1  \n",
       "0_cycle_deliqnuent                     0       2216       4374  \n",
       "1_cycle_deliqnuent                     0       1158       2477  \n",
       "2_cycle_deliqnuent                     0        307        585  \n",
       "3_cycle_deliqnuent                     0         76        156  \n",
       "4_cycle_deliqnuent                     0         27         49  \n",
       "5_cycle_deliqnuent                     9         12         30  \n",
       "6+_cycle_deliqnuent                   24         32         50  \n",
       "bin_ind_2                             31       3994       7669  \n",
       "bin_ind_1                             74       7624      15287  "
      ]
     },
     "execution_count": 6,
     "metadata": {},
     "output_type": "execute_result"
    }
   ],
   "source": [
    "table.get_roll_rates()"
   ]
  },
  {
   "cell_type": "markdown",
   "id": "e6222514-e093-408c-becf-f2269c8fef86",
   "metadata": {},
   "source": [
    "Also, by default the indicators are prioritized from the delinquency columns. \\\n",
    "For example if an account is 2 cycle delinquent and both indicator columns are equal to 1, then the will appear on the row of the biggest priority indicator, meaning bin_ind_1."
   ]
  },
  {
   "cell_type": "code",
   "execution_count": null,
   "id": "8e5025a9-ea0f-4371-b535-ad4ab96f5764",
   "metadata": {},
   "outputs": [],
   "source": []
  }
 ],
 "metadata": {
  "kernelspec": {
   "display_name": "Python 3 (ipykernel)",
   "language": "python",
   "name": "python3"
  },
  "language_info": {
   "codemirror_mode": {
    "name": "ipython",
    "version": 3
   },
   "file_extension": ".py",
   "mimetype": "text/x-python",
   "name": "python",
   "nbconvert_exporter": "python",
   "pygments_lexer": "ipython3",
   "version": "3.10.12"
  }
 },
 "nbformat": 4,
 "nbformat_minor": 5
}
